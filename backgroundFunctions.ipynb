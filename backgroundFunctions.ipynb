{
 "cells": [
  {
   "cell_type": "markdown",
   "metadata": {},
   "source": [
    "# Functions that will work on the background"
   ]
  },
  {
   "cell_type": "markdown",
   "metadata": {},
   "source": [
    "## Image Segmentation"
   ]
  },
  {
   "cell_type": "markdown",
   "metadata": {},
   "source": [
    "### Get bounding boxes from image from user interaction"
   ]
  },
  {
   "cell_type": "code",
   "execution_count": 1,
   "metadata": {},
   "outputs": [],
   "source": [
    "import cv2\n",
    "import numpy as np\n",
    "import matplotlib.pyplot as plt\n",
    "import ipywidgets as widgets\n",
    "from IPython.display import display\n",
    "from PIL import Image"
   ]
  },
  {
   "cell_type": "code",
   "execution_count": 2,
   "metadata": {},
   "outputs": [],
   "source": [
    "rect_start = None\n",
    "rect_end = None\n",
    "drawing = False"
   ]
  },
  {
   "cell_type": "code",
   "execution_count": 3,
   "metadata": {},
   "outputs": [],
   "source": [
    "def draw_rectangle(event, x, y, flags, param):\n",
    "    \"\"\"Mouse callback function to draw a rectangle.\"\"\"\n",
    "    global rect_start, rect_end, drawing\n",
    "\n",
    "    if event == cv2.EVENT_LBUTTONDOWN:\n",
    "        rect_start = (x, y)\n",
    "        drawing = True\n",
    "\n",
    "    elif event == cv2.EVENT_LBUTTONUP:\n",
    "        rect_end = (x, y)\n",
    "        drawing = False\n",
    "        cv2.rectangle(img_display, rect_start, rect_end, (255, 0, 0), 4)\n",
    "        cv2.imshow(\"Draw Rectangle\", img_display)"
   ]
  },
  {
   "cell_type": "code",
   "execution_count": 4,
   "metadata": {},
   "outputs": [],
   "source": [
    "def interactive_bbox_selection(image_path, window_width=800, window_height=800):\n",
    "    \"\"\"Allows the user to draw a rectangle and converts to Ultralytics BBox format.\"\"\"\n",
    "    global img_display\n",
    "    \n",
    "    # Load image\n",
    "    img = cv2.imread(image_path)\n",
    "    #img = cv2.cvtColor(img, cv2.COLOR_BGR2RGB)\n",
    "    img_display = img.copy()\n",
    "\n",
    "    cv2.namedWindow(\"Draw Rectangle\", cv2.WINDOW_NORMAL)\n",
    "    cv2.resizeWindow(\"Draw Rectangle\", window_width, window_height)  # Resize window\n",
    "\n",
    "    # Set mouse callback\n",
    "    cv2.setMouseCallback(\"Draw Rectangle\", draw_rectangle)\n",
    "\n",
    "    while True:\n",
    "        cv2.imshow(\"Draw Rectangle\", img_display)\n",
    "        key = cv2.waitKey(1) & 0xFF\n",
    "        if key == 13:  # Press 'Enter' to finish\n",
    "            break\n",
    "\n",
    "    cv2.destroyAllWindows()\n",
    "\n",
    "    # Convert to Ultralytics BBox format (normalized)\n",
    "    if rect_start and rect_end:\n",
    "        x1, y1 = rect_start\n",
    "        x2, y2 = rect_end\n",
    "\n",
    "        # Ensure coordinates are sorted properly\n",
    "        x_min, y_min = min(x1, x2), min(y1, y2)\n",
    "        x_max, y_max = max(x1, x2), max(y1, y2)\n",
    "\n",
    "        # Convert to Ultralytics normalized BBox format\n",
    "        coord = [\n",
    "            x_min,\n",
    "            y_min,\n",
    "            x_max,\n",
    "            y_max\n",
    "        ]\n",
    "        \n",
    "        print(\"Coordinates:\", coord)\n",
    "        return coord\n",
    "    else:\n",
    "        print(\"No rectangle was drawn.\")\n",
    "        return None"
   ]
  },
  {
   "cell_type": "code",
   "execution_count": null,
   "metadata": {},
   "outputs": [],
   "source": [
    "coord = interactive_bbox_selection(\"frames/frame_0000.png\")"
   ]
  },
  {
   "cell_type": "markdown",
   "metadata": {},
   "source": [
    "### Segment image based on rectangle coordinates"
   ]
  },
  {
   "cell_type": "code",
   "execution_count": null,
   "metadata": {},
   "outputs": [],
   "source": [
    "from ultralytics import SAM\n",
    "import numpy as np\n",
    "import matplotlib.pyplot as plt\n",
    "import cv2\n",
    "%matplotlib inline\n",
    "\n",
    "source = \"test_image.jpg\"\n",
    "\n",
    "model = SAM(\"sam_l.pt\")\n",
    "\n",
    "results = model(source,\n",
    "                device=\"cpu\",\n",
    "                retina_masks=True,\n",
    "                imgsz=640,\n",
    "                conf=0.2,\n",
    "                iou=0.4,\n",
    "                bboxes=[206, 259, 3293, 5996])\n",
    "\n",
    "for result in results:\n",
    "    img = np.copy(result.orig_img)\n",
    "\n",
    "    for ci, c in enumerate(result):\n",
    "        b_mask = np.zeros(img.shape[:2], np.uint8)\n",
    "\n",
    "        # Create contour mask \n",
    "        contour = c.masks.xy.pop().astype(np.int32).reshape(-1, 1, 2)\n",
    "        _ = cv2.drawContours(b_mask, [contour], -1, (255, 255, 255), cv2.FILLED)\n",
    "\n",
    "        isolated = img.copy()\n",
    "        isolated[b_mask == 0] = 0\n",
    "\n",
    "        contour = contour.reshape(-1, 2)\n",
    "\n",
    "        x_min, y_min = np.min(contour, axis=0)\n",
    "        x_max, y_max = np.max(contour, axis=0)\n",
    "\n",
    "        # Crop the image to get only the segmented\n",
    "        cropped_image = isolated[y_min:y_max, x_min:x_max]\n",
    "        resultado_rgb = cv2.cvtColor(cropped_image, cv2.COLOR_BGR2RGB)\n",
    "\n",
    "        # Make the image square and centralize the segmented image\n",
    "        height, width, _ = resultado_rgb.shape\n",
    "        size = max(height, width)\n",
    "        square_image = np.zeros((size, size, 3), dtype=np.uint8)\n",
    "\n",
    "        # Calculate the top-left corner to centralize the image\n",
    "        y_offset = (size - height) // 2\n",
    "        x_offset = (size - width) // 2\n",
    "\n",
    "        square_image[y_offset:y_offset + height, x_offset:x_offset + width] = resultado_rgb\n",
    "\n",
    "        plt.imshow(square_image)"
   ]
  },
  {
   "cell_type": "markdown",
   "metadata": {},
   "source": [
    "Making it a function"
   ]
  },
  {
   "cell_type": "code",
   "execution_count": 5,
   "metadata": {},
   "outputs": [],
   "source": [
    "def segmenting_image(coordinates, model, source, device=\"cpu\"):\n",
    "    results = model(source,\n",
    "                    device=device,\n",
    "                    retina_masks=True,\n",
    "                    imgsz=640,\n",
    "                    bboxes=coordinates)\n",
    "    \n",
    "    for result in results:\n",
    "        img = np.copy(result.orig_img)\n",
    "        for ci, c in enumerate(result):\n",
    "            b_mask = np.zeros(img.shape[:2], np.uint8)\n",
    "            # Create contour mask \n",
    "            contour = c.masks.xy.pop().astype(np.int32).reshape(-1, 1, 2)\n",
    "            cv2.drawContours(b_mask, [contour], -1, (255, 255, 255), cv2.FILLED)\n",
    "            \n",
    "            # Create an RGBA image with an alpha channel\n",
    "            isolated = np.zeros((*img.shape[:2], 4), dtype=np.uint8)\n",
    "            isolated[..., :3] = img\n",
    "            isolated[b_mask == 0, 3] = 0  # Set alpha to 0 for background\n",
    "            isolated[b_mask != 0, 3] = 255  # Set alpha to 255 for the segmented object\n",
    "            \n",
    "            contour = contour.reshape(-1, 2)\n",
    "            x_min, y_min = np.min(contour, axis=0)\n",
    "            x_max, y_max = np.max(contour, axis=0)\n",
    "            \n",
    "            # Crop the image to get only the segmented object\n",
    "            cropped_image = isolated[y_min:y_max, x_min:x_max]\n",
    "            \n",
    "            # Create a square image with 4 channels (RGBA)\n",
    "            height, width, _ = cropped_image.shape\n",
    "            size = max(height, width)\n",
    "            square_image = np.zeros((size, size, 4), dtype=np.uint8)\n",
    "            \n",
    "            # Calculate the top-left corner to centralize the image\n",
    "            y_offset = (size - height) // 2\n",
    "            x_offset = (size - width) // 2\n",
    "            \n",
    "            # Copy the cropped image into the square image\n",
    "            square_image[y_offset:y_offset + height, x_offset:x_offset + width] = cropped_image\n",
    "            \n",
    "            # Save the image with 4 channels (RGBA)\n",
    "            cv2.imwrite(\"segmented.png\", square_image)\n",
    "            \n",
    "            # For display, convert to RGB for matplotlib\n",
    "            plt.imshow(cv2.cvtColor(square_image, cv2.COLOR_RGBA2BGRA))\n",
    "            plt.axis('off')\n",
    "            plt.show()"
   ]
  },
  {
   "cell_type": "markdown",
   "metadata": {},
   "source": [
    "### Combining everything"
   ]
  },
  {
   "cell_type": "code",
   "execution_count": 6,
   "metadata": {},
   "outputs": [
    {
     "name": "stdout",
     "output_type": "stream",
     "text": [
      "Downloading https://github.com/ultralytics/assets/releases/download/v8.3.0/mobile_sam.pt to 'models\\mobile_sam.pt'...\n"
     ]
    },
    {
     "name": "stderr",
     "output_type": "stream",
     "text": [
      "100%|██████████| 38.8M/38.8M [00:00<00:00, 55.5MB/s]\n"
     ]
    },
    {
     "name": "stdout",
     "output_type": "stream",
     "text": [
      "Coordinates: [595, 187, 2461, 3081]\n",
      "\n",
      "image 1/1 c:\\Users\\gusta\\Documents\\Projetos Diversao\\MiniAid\\backgroundFunctions\\images\\IMG_20250506_193722.jpg: 640x640 1 0, 933.8ms\n",
      "Speed: 25.1ms preprocess, 933.8ms inference, 216.3ms postprocess per image at shape (1, 3, 640, 640)\n"
     ]
    },
    {
     "data": {
      "image/png": "[encoded data removed]",
      "text/plain": [
       "<Figure size 640x480 with 1 Axes>"
      ]
     },
     "metadata": {},
     "output_type": "display_data"
    }
   ],
   "source": [
    "from ultralytics import SAM\n",
    "%matplotlib inline\n",
    "import torch\n",
    "\n",
    "rect_start = None\n",
    "rect_end = None\n",
    "drawing = False\n",
    "\n",
    "source = \"images/IMG_20250506_193722.jpg\"\n",
    "model = SAM(\"models/mobile_sam.pt\")\n",
    "device = torch.device(\"cuda\" if torch.cuda.is_available() else \"cpu\")\n",
    "\n",
    "coordinates = interactive_bbox_selection(source)\n",
    "segmenting_image(coordinates, model, source, device)"
   ]
  },
  {
   "cell_type": "markdown",
   "metadata": {},
   "source": [
    "## 3D reconstruction from videos"
   ]
  },
  {
   "cell_type": "markdown",
   "metadata": {},
   "source": [
    "### Extracting frames"
   ]
  },
  {
   "cell_type": "code",
   "execution_count": 1,
   "metadata": {},
   "outputs": [],
   "source": [
    "import cv2\n",
    "import os\n",
    "from tqdm import tqdm\n",
    "import numpy as np\n",
    "\n",
    "def extract_frames(video_path, output_folder=\"frames\", num_frames=10):\n",
    "    \"\"\"\n",
    "    Extract a specified number of equally spaced frames from a video.\n",
    "\n",
    "    Args:\n",
    "        video_path (str): The path to the video to be extracted.\n",
    "        output_folder (str): The path to save the extracted frames.\n",
    "        num_frames (int): The number of equally spaced frames to extract.\n",
    "    \n",
    "    Returns:\n",
    "        Extracted frames will be saved in the output_folder in png format.\n",
    "    \"\"\"\n",
    "\n",
    "    if not os.path.exists(output_folder):\n",
    "        os.mkdir(output_folder)\n",
    "\n",
    "    cap = cv2.VideoCapture(video_path)\n",
    "    total_frames = int(cap.get(cv2.CAP_PROP_FRAME_COUNT))\n",
    "    rotation = int(cap.get(cv2.CAP_PROP_ORIENTATION_META))\n",
    "    \n",
    "    print(\"------ Extracting frames ------\")\n",
    "\n",
    "    # Calculate the frame indices to extract\n",
    "    frame_indices = np.linspace(0, total_frames - 1, num_frames, dtype=int)\n",
    "\n",
    "    extracted_count = 0\n",
    "    with tqdm(total=num_frames, unit=\"frame\") as pbar:\n",
    "        for frame_idx in frame_indices:\n",
    "            cap.set(cv2.CAP_PROP_POS_FRAMES, frame_idx)\n",
    "            ret, frame = cap.read()\n",
    "            if not ret:\n",
    "                print(f\"Warning: Unable to read frame at index {frame_idx}\")\n",
    "                continue\n",
    "\n",
    "            if rotation == 90:\n",
    "                frame = cv2.rotate(frame, cv2.ROTATE_90_CLOCKWISE)\n",
    "            elif rotation == 180:\n",
    "                frame = cv2.rotate(frame, cv2.ROTATE_180)\n",
    "            elif rotation == 270:\n",
    "                frame = cv2.rotate(frame, cv2.ROTATE_90_COUNTERCLOCKWISE)\n",
    "\n",
    "            frame_filename = os.path.join(output_folder, f\"frame_{extracted_count:04d}.png\")\n",
    "            cv2.imwrite(frame_filename, frame)\n",
    "            extracted_count += 1\n",
    "            pbar.update(1)\n",
    "    \n",
    "    cap.release()"
   ]
  },
  {
   "cell_type": "code",
   "execution_count": 2,
   "metadata": {},
   "outputs": [
    {
     "name": "stdout",
     "output_type": "stream",
     "text": [
      "------ Extracting frames ------\n"
     ]
    },
    {
     "name": "stderr",
     "output_type": "stream",
     "text": [
      "100%|██████████| 16/16 [00:08<00:00,  1.78frame/s]\n"
     ]
    }
   ],
   "source": [
    "extract_frames(\"videos/Iuchiban.mp4\", \"frames\", 16)"
   ]
  },
  {
   "cell_type": "markdown",
   "metadata": {},
   "source": [
    "### DUSt3R"
   ]
  },
  {
   "cell_type": "code",
   "execution_count": 1,
   "metadata": {},
   "outputs": [
    {
     "name": "stderr",
     "output_type": "stream",
     "text": [
      "c:\\Users\\gnoceras\\Documents\\GustavoPersonal\\MiniAid\\backgroundFunctions\\dust3r\\cloud_opt\\base_opt.py:275: FutureWarning: `torch.cuda.amp.autocast(args...)` is deprecated. Please use `torch.amp.autocast('cuda', args...)` instead.\n",
      "  @torch.cuda.amp.autocast(enabled=False)\n"
     ]
    },
    {
     "name": "stdout",
     "output_type": "stream",
     "text": [
      "Warning, cannot find cuda-compiled version of RoPE2D, using a slow pytorch version instead\n"
     ]
    }
   ],
   "source": [
    "import torch\n",
    "from dust3r.cloud_opt import GlobalAlignerMode, global_aligner\n",
    "from dust3r.image_pairs import make_pairs\n",
    "from dust3r.inference import inference\n",
    "from dust3r.model import AsymmetricCroCo3DStereo\n",
    "from dust3r.utils.image import load_images\n",
    "\n",
    "def runDUSt3R(device: str = \"cuda\", dir_path: str = \"images\"):\n",
    "    batch_size = 1\n",
    "    schedule = \"cosine\"\n",
    "    lr = 0.01\n",
    "    niter = 300\n",
    "    model_name = \"naver/DUSt3R_ViTLarge_BaseDecoder_512_dpt\"\n",
    "    model = AsymmetricCroCo3DStereo.from_pretrained(model_name).to(device)\n",
    "    images = load_images(dir_path, size=512)\n",
    "    pairs = make_pairs(images, scene_graph=\"complete\", prefilter=None, symmetrize=True)\n",
    "    output = inference(pairs, model, device, batch_size=batch_size)\n",
    "    scene = global_aligner(\n",
    "        output, device=device, mode=GlobalAlignerMode.PointCloudOptimizer\n",
    "    )\n",
    "    loss = scene.compute_global_alignment(\n",
    "        init=\"mst\", niter=niter, schedule=schedule, lr=lr\n",
    "    )\n",
    "\n",
    "    scene.show()"
   ]
  },
  {
   "cell_type": "code",
   "execution_count": null,
   "metadata": {},
   "outputs": [],
   "source": [
    "device = torch.device(\"cuda\" if torch.cuda.is_available() else \"cpu\")\n",
    "base_path = \"images\"\n",
    "\n",
    "runDUSt3R(device=device, dir_path=base_path)"
   ]
  },
  {
   "cell_type": "code",
   "execution_count": 3,
   "metadata": {},
   "outputs": [
    {
     "name": "stdout",
     "output_type": "stream",
     "text": [
      "Jupyter environment detected. Enabling Open3D WebVisualizer.\n",
      "[Open3D INFO] WebRTC GUI backend enabled.\n",
      "[Open3D INFO] WebRTCWindowSystem: HTTP handshake server disabled.\n"
     ]
    }
   ],
   "source": [
    "import open3d as o3d\n",
    "\n",
    "cloud_path = \"reconstruction.ply\"\n",
    "pcd = o3d.io.read_point_cloud(cloud_path)\n",
    "pcd, ind = pcd.remove_statistical_outlier(nb_neighbors=50, std_ratio=1)\n",
    "o3d.visualization.draw_geometries([pcd], window_name=\"Point Cloud\")"
   ]
  },
  {
   "cell_type": "code",
   "execution_count": 4,
   "metadata": {},
   "outputs": [
    {
     "data": {
      "text/plain": [
       "True"
      ]
     },
     "execution_count": 4,
     "metadata": {},
     "output_type": "execute_result"
    }
   ],
   "source": [
    "o3d.io.write_point_cloud(\"reconstructions/Uten.ply\", pcd)"
   ]
  },
  {
   "cell_type": "markdown",
   "metadata": {},
   "source": [
    "### VGG-T"
   ]
  },
  {
   "cell_type": "code",
   "execution_count": null,
   "metadata": {},
   "outputs": [
    {
     "name": "stdout",
     "output_type": "stream",
     "text": [
      "Jupyter environment detected. Enabling Open3D WebVisualizer.\n",
      "[Open3D INFO] WebRTC GUI backend enabled.\n",
      "[Open3D INFO] WebRTCWindowSystem: HTTP handshake server disabled.\n",
      "Initializing and loading VGGT model...\n"
     ]
    }
   ],
   "source": [
    "import os\n",
    "import torch\n",
    "import numpy as np\n",
    "import sys\n",
    "import glob\n",
    "import gc\n",
    "import time\n",
    "\n",
    "sys.path.append(\"vggt/\")\n",
    "\n",
    "from visual_util import predictions_to_glb\n",
    "from vggt.models.vggt import VGGT\n",
    "from vggt.utils.load_fn import load_and_preprocess_images\n",
    "from vggt.utils.pose_enc import pose_encoding_to_extri_intri\n",
    "from vggt.utils.geometry import unproject_depth_map_to_point_map\n",
    "\n",
    "device = \"cuda\" if torch.cuda.is_available() else \"cpu\"\n",
    "\n",
    "print(\"Initializing and loading VGGT model...\")\n",
    "\n",
    "model = VGGT()\n",
    "_URL = \"https://huggingface.co/facebook/VGGT-1B/resolve/main/model.pt\"\n",
    "model.load_state_dict(torch.hub.load_state_dict_from_url(_URL))\n",
    "\n",
    "\n",
    "model.eval()\n",
    "model = model.to(device)"
   ]
  },
  {
   "cell_type": "code",
   "execution_count": null,
   "metadata": {},
   "outputs": [],
   "source": [
    "def run_model(target_dir, model):\n",
    "    \"\"\"\n",
    "    Run the VGGT model on images in the 'target_dir/images' folder and return predictions.\n",
    "    \"\"\"\n",
    "    print(f\"Processing images from {target_dir}\")\n",
    "\n",
    "    start_time = time.time()\n",
    "    gc.collect()\n",
    "    torch.cuda.empty_cache()\n",
    "\n",
    "    # Device check\n",
    "    device = \"cuda\" if torch.cuda.is_available() else \"cpu\"\n",
    "\n",
    "\n",
    "    # Move model to device\n",
    "    model = model.to(device)\n",
    "    model.eval()\n",
    "\n",
    "    # Load and preprocess images\n",
    "    image_names = glob.glob(os.path.join(target_dir, \"images\", \"*\"))\n",
    "    image_names = sorted(image_names)\n",
    "    print(f\"Found {len(image_names)} images\")\n",
    "    if len(image_names) == 0:\n",
    "        raise ValueError(\"No images found. Check your upload.\")\n",
    "\n",
    "    images = load_and_preprocess_images(image_names).to(device)\n",
    "    print(f\"Preprocessed images shape: {images.shape}\")\n",
    "\n",
    "    # Run inference\n",
    "    print(\"Running inference...\")\n",
    "    #dtype = torch.bfloat16 if torch.cuda.get_device_capability()[0] >= 8 else torch.float16\n",
    "\n",
    "    with torch.no_grad():\n",
    "        #with torch.cuda.amp.autocast(dtype=dtype):\n",
    "        predictions = model(images)\n",
    "\n",
    "    # Convert pose encoding to extrinsic and intrinsic matrices\n",
    "    print(\"Converting pose encoding to extrinsic and intrinsic matrices...\")\n",
    "    extrinsic, intrinsic = pose_encoding_to_extri_intri(predictions[\"pose_enc\"], images.shape[-2:])\n",
    "    predictions[\"extrinsic\"] = extrinsic\n",
    "    predictions[\"intrinsic\"] = intrinsic\n",
    "\n",
    "    # Convert tensors to numpy\n",
    "    for key in predictions.keys():\n",
    "        if isinstance(predictions[key], torch.Tensor):\n",
    "            predictions[key] = predictions[key].cpu().numpy().squeeze(0)  # remove batch dimension\n",
    "\n",
    "    # Generate world points from depth map\n",
    "    print(\"Computing world points from depth map...\")\n",
    "    depth_map = predictions[\"depth\"]  # (S, H, W, 1)\n",
    "    world_points = unproject_depth_map_to_point_map(depth_map, predictions[\"extrinsic\"], predictions[\"intrinsic\"])\n",
    "    predictions[\"world_points_from_depth\"] = world_points\n",
    "\n",
    "    # Clean up\n",
    "    torch.cuda.empty_cache()\n",
    "    return predictions"
   ]
  },
  {
   "cell_type": "code",
   "execution_count": 36,
   "metadata": {},
   "outputs": [],
   "source": [
    "def perform_reconstruction(target_dir,\n",
    "    conf_thres=3.0,\n",
    "    frame_filter=\"All\",\n",
    "    mask_black_bg=False,\n",
    "    mask_white_bg=False,\n",
    "    show_cam=True,\n",
    "    mask_sky=False,\n",
    "    prediction_mode=\"Pointmap Regression\",\n",
    "):\n",
    "    \"\"\"\n",
    "    Perform reconstruction using the already-created target_dir/images.\n",
    "    \"\"\"\n",
    "    if not os.path.isdir(target_dir) or target_dir == \"None\":\n",
    "        return None, \"No valid target directory found. Please upload first.\", None, None\n",
    "\n",
    "    start_time = time.time()\n",
    "    gc.collect()\n",
    "    torch.cuda.empty_cache()\n",
    "\n",
    "    # Prepare frame_filter dropdown\n",
    "    target_dir_images = os.path.join(target_dir, \"images\")\n",
    "    all_files = sorted(os.listdir(target_dir_images)) if os.path.isdir(target_dir_images) else []\n",
    "    all_files = [f\"{i}: {filename}\" for i, filename in enumerate(all_files)]\n",
    "    frame_filter_choices = [\"All\"] + all_files\n",
    "\n",
    "    print(\"Running run_model...\")\n",
    "    with torch.no_grad():\n",
    "        predictions = run_model(target_dir, model)\n",
    "\n",
    "    # Save predictions\n",
    "    prediction_save_path = os.path.join(target_dir, \"predictions.npz\")\n",
    "    np.savez(prediction_save_path, **predictions)\n",
    "\n",
    "    # Handle None frame_filter\n",
    "    if frame_filter is None:\n",
    "        frame_filter = \"All\"\n",
    "\n",
    "    # Build a GLB file name\n",
    "    glbfile = os.path.join(\n",
    "        target_dir,\n",
    "        f\"Reconstruction.glb\",\n",
    "    )\n",
    "\n",
    "    # Convert predictions to GLB\n",
    "    glbscene = predictions_to_glb(\n",
    "        predictions,\n",
    "        conf_thres=conf_thres,\n",
    "        filter_by_frames=frame_filter,\n",
    "        mask_black_bg=mask_black_bg,\n",
    "        mask_white_bg=mask_white_bg,\n",
    "        show_cam=show_cam,\n",
    "        mask_sky=mask_sky,\n",
    "        target_dir=target_dir,\n",
    "        prediction_mode=prediction_mode,\n",
    "    )\n",
    "    glbscene.export(file_obj=glbfile)\n",
    "\n",
    "    # Cleanup\n",
    "    del predictions\n",
    "    gc.collect()\n",
    "    torch.cuda.empty_cache()\n",
    "\n",
    "    end_time = time.time()\n",
    "    print(f\"Total time: {end_time - start_time:.2f} seconds (including IO)\")\n",
    "    print(f\"Reconstruction Success ({len(all_files)} frames).\")"
   ]
  },
  {
   "cell_type": "code",
   "execution_count": 64,
   "metadata": {},
   "outputs": [],
   "source": [
    "def update_visualization(\n",
    "    target_dir, conf_thres, frame_filter, mask_black_bg, mask_white_bg, show_cam, mask_sky, prediction_mode, is_example\n",
    "):\n",
    "    \"\"\"\n",
    "    Reload saved predictions from npz, create (or reuse) the GLB for new parameters,\n",
    "    and return it for the 3D viewer. If is_example == \"True\", skip.\n",
    "    \"\"\"\n",
    "\n",
    "    # If it's an example click, skip as requested\n",
    "    if is_example == \"True\":\n",
    "        return None, \"No reconstruction available. Please click the Reconstruct button first.\"\n",
    "\n",
    "    if not target_dir or target_dir == \"None\" or not os.path.isdir(target_dir):\n",
    "        return None, \"No reconstruction available. Please click the Reconstruct button first.\"\n",
    "\n",
    "    predictions_path = os.path.join(target_dir, \"predictions.npz\")\n",
    "    if not os.path.exists(predictions_path):\n",
    "        return None, f\"No reconstruction available at {predictions_path}. Please run 'Reconstruct' first.\"\n",
    "\n",
    "    key_list = [\n",
    "        \"pose_enc\",\n",
    "        \"depth\",\n",
    "        \"depth_conf\",\n",
    "        \"world_points\",\n",
    "        \"world_points_conf\",\n",
    "        \"images\",\n",
    "        \"extrinsic\",\n",
    "        \"intrinsic\",\n",
    "        \"world_points_from_depth\",\n",
    "    ]\n",
    "\n",
    "    loaded = np.load(predictions_path)\n",
    "    predictions = {key: np.array(loaded[key]) for key in key_list}\n",
    "\n",
    "    glbfile = os.path.join(\n",
    "        target_dir,\n",
    "        f\"Reconstruction.glb\",\n",
    "    )\n",
    "\n",
    "    if not os.path.exists(glbfile):\n",
    "        glbscene = predictions_to_glb(\n",
    "            predictions,\n",
    "            conf_thres=conf_thres,\n",
    "            filter_by_frames=frame_filter,\n",
    "            mask_black_bg=mask_black_bg,\n",
    "            mask_white_bg=mask_white_bg,\n",
    "            show_cam=show_cam,\n",
    "            mask_sky=mask_sky,\n",
    "            target_dir=target_dir,\n",
    "            prediction_mode=prediction_mode,\n",
    "        )\n",
    "        glbscene.export(file_obj=glbfile)\n",
    "\n",
    "    return glbfile"
   ]
  },
  {
   "cell_type": "code",
   "execution_count": 26,
   "metadata": {},
   "outputs": [
    {
     "name": "stdout",
     "output_type": "stream",
     "text": [
      "Running run_model...\n",
      "Processing images from target_dir\n",
      "Found 7 images\n",
      "Preprocessed images shape: torch.Size([7, 3, 518, 518])\n",
      "Running inference...\n"
     ]
    },
    {
     "name": "stderr",
     "output_type": "stream",
     "text": [
      "c:\\Users\\gusta\\Documents\\Projetos Diversao\\MiniAid\\vggt\\vggt\\models\\vggt.py:63: FutureWarning: `torch.cuda.amp.autocast(args...)` is deprecated. Please use `torch.amp.autocast('cuda', args...)` instead.\n",
      "  with torch.cuda.amp.autocast(enabled=False):\n"
     ]
    },
    {
     "name": "stdout",
     "output_type": "stream",
     "text": [
      "Converting pose encoding to extrinsic and intrinsic matrices...\n",
      "Computing world points from depth map...\n",
      "Building GLB scene\n",
      "Using Pointmap Branch\n",
      "GLB Scene built\n",
      "Total time: 123.85 seconds (including IO)\n"
     ]
    }
   ],
   "source": [
    "target_dir = \"target_dir\"\n",
    "perform_reconstruction(target_dir=target_dir)"
   ]
  },
  {
   "cell_type": "code",
   "execution_count": 65,
   "metadata": {},
   "outputs": [
    {
     "data": {
      "text/plain": [
       "'target_dir\\\\Reconstruction.glb'"
      ]
     },
     "execution_count": 65,
     "metadata": {},
     "output_type": "execute_result"
    }
   ],
   "source": [
    "update_visualization(target_dir, 100, \"All\", True, False, True, False, \"Pointmap Regression\", \"False\")"
   ]
  },
  {
   "cell_type": "code",
   "execution_count": 66,
   "metadata": {},
   "outputs": [
    {
     "name": "stdout",
     "output_type": "stream",
     "text": [
      "[Open3D WARNING] GLFW Error: WGL: Failed to make context current: The handle is invalid. \n"
     ]
    }
   ],
   "source": [
    "import trimesh\n",
    "import numpy as np\n",
    "import open3d as o3d\n",
    "\n",
    "# Load the GLB file\n",
    "scene = trimesh.load('target_dir/Reconstruction.glb')\n",
    "\n",
    "# Extract the point cloud (geometry_0)\n",
    "point_cloud_trimesh = scene.geometry['geometry_0']\n",
    "\n",
    "# Convert trimesh PointCloud to Open3D format for better visualization\n",
    "points = np.array(point_cloud_trimesh.vertices)\n",
    "colors = None\n",
    "if hasattr(point_cloud_trimesh, 'colors') and point_cloud_trimesh.colors is not None:\n",
    "    colors = np.array(point_cloud_trimesh.colors)\n",
    "\n",
    "# Create Open3D point cloud\n",
    "pcd = o3d.geometry.PointCloud()\n",
    "pcd.points = o3d.utility.Vector3dVector(points)\n",
    "if colors is not None:\n",
    "    pcd.colors = o3d.utility.Vector3dVector(colors[:, :3] / 255.0)  # Normalize colors\n",
    "\n",
    "# Extract meshes and convert to Open3D\n",
    "meshes_o3d = []\n",
    "for i in range(1, 8):  # geometry_1 through geometry_7\n",
    "    geom_name = f'geometry_{i}'\n",
    "    if geom_name in scene.geometry:\n",
    "        trimesh_mesh = scene.geometry[geom_name]\n",
    "        \n",
    "        # Convert to Open3D mesh\n",
    "        mesh_o3d = o3d.geometry.TriangleMesh()\n",
    "        mesh_o3d.vertices = o3d.utility.Vector3dVector(trimesh_mesh.vertices)\n",
    "        mesh_o3d.triangles = o3d.utility.Vector3iVector(trimesh_mesh.faces)\n",
    "        \n",
    "        # Add colors if available\n",
    "        if hasattr(trimesh_mesh.visual, 'vertex_colors'):\n",
    "            mesh_o3d.vertex_colors = o3d.utility.Vector3dVector(\n",
    "                trimesh_mesh.visual.vertex_colors[:, :3] / 255.0\n",
    "            )\n",
    "        else:\n",
    "            # Give each mesh a different color\n",
    "            colors = np.tile([0.7, 0.3, 0.3], (len(trimesh_mesh.vertices), 1))\n",
    "            mesh_o3d.vertex_colors = o3d.utility.Vector3dVector(colors)\n",
    "        \n",
    "        meshes_o3d.append(mesh_o3d)\n",
    "\n",
    "# Visualize everything together\n",
    "geometries = [pcd] + meshes_o3d\n",
    "o3d.visualization.draw_geometries(geometries, \n",
    "                                  window_name=\"Point Cloud + Meshes\",\n",
    "                                  width=1200, height=800)"
   ]
  },
  {
   "cell_type": "markdown",
   "metadata": {},
   "source": [
    "### Converting to mesh"
   ]
  },
  {
   "cell_type": "code",
   "execution_count": 1,
   "metadata": {},
   "outputs": [
    {
     "name": "stdout",
     "output_type": "stream",
     "text": [
      "Jupyter environment detected. Enabling Open3D WebVisualizer.\n",
      "[Open3D INFO] WebRTC GUI backend enabled.\n",
      "[Open3D INFO] WebRTCWindowSystem: HTTP handshake server disabled.\n"
     ]
    }
   ],
   "source": [
    "import open3d as o3d\n",
    "import numpy as np\n",
    "\n",
    "def poisson_reconstruction_from_point_cloud(\n",
    "    input_file, output_mesh_file, depth=9, width=0, scale=1.1, linear_fit=False\n",
    "):\n",
    "    \"\"\"\n",
    "    Perform Poisson surface reconstruction from a point cloud.\n",
    "    This estimates normals first if they don't exist.\n",
    "\n",
    "    Parameters:\n",
    "    -----------\n",
    "    input_file : str\n",
    "        Path to input point cloud file (can be .ply, .pcd, .xyz, etc.)\n",
    "    output_mesh_file : str\n",
    "        Path to save the output mesh file (typically .ply or .obj)\n",
    "    depth : int\n",
    "        Maximum depth of the octree used for reconstruction (higher=more detail but slower)\n",
    "    width : int\n",
    "        Specifies the target width of the finest level of the octree (0=automatic)\n",
    "    scale : float\n",
    "        Ratio between the diameter of the cube used for reconstruction and the diameter of the input point cloud\n",
    "    linear_fit : bool\n",
    "        If true, use linear interpolation to fit the implicit function\n",
    "    \"\"\"\n",
    "    # Load the point cloud\n",
    "    print(f\"Loading point cloud from {input_file}...\")\n",
    "    pcd = o3d.io.read_point_cloud(input_file)\n",
    "\n",
    "    # Check if normals exist, estimate them if they don't\n",
    "    if not pcd.has_normals():\n",
    "        print(\"Point cloud doesn't have normals, estimating them...\")\n",
    "        pcd.estimate_normals(search_param=o3d.geometry.KDTreeSearchParamKNN(knn=30))\n",
    "        pcd.orient_normals_consistent_tangent_plane(k=30)\n",
    "\n",
    "    print(\"Running Poisson surface reconstruction...\")\n",
    "    with o3d.utility.VerbosityContextManager(o3d.utility.VerbosityLevel.Debug) as cm:\n",
    "        mesh, densities = o3d.geometry.TriangleMesh.create_from_point_cloud_poisson(\n",
    "            pcd, depth=depth, width=width, scale=scale, linear_fit=linear_fit\n",
    "        )\n",
    "\n",
    "    # The densities can be used to remove low-density areas (often outliers)\n",
    "    print(\"Removing low-density vertices...\")\n",
    "    density_colors = np.asarray(densities)\n",
    "    density_colors = density_colors / density_colors.max()\n",
    "    density_mesh = o3d.geometry.TriangleMesh()\n",
    "    density_mesh.vertices = mesh.vertices\n",
    "    density_mesh.triangles = mesh.triangles\n",
    "    density_mesh.vertex_colors = o3d.utility.Vector3dVector(\n",
    "        np.zeros((len(density_mesh.vertices), 3))\n",
    "    )\n",
    "\n",
    "    # You can adjust this threshold (0.1) to filter out more/less vertices\n",
    "    vertices_to_remove = densities < np.quantile(densities, 0.1)\n",
    "    mesh.remove_vertices_by_mask(vertices_to_remove)\n",
    "\n",
    "    # Visualize the mesh\n",
    "    print(\"Visualizing reconstructed mesh...\")\n",
    "    o3d.visualization.draw_geometries([mesh], mesh_show_back_face=True)\n",
    "\n",
    "    # Save the mesh\n",
    "    # print(f\"Saving reconstructed mesh to {output_mesh_file}...\")\n",
    "    o3d.io.write_triangle_mesh(output_mesh_file, mesh)\n",
    "\n",
    "    return mesh"
   ]
  },
  {
   "cell_type": "code",
   "execution_count": 2,
   "metadata": {},
   "outputs": [
    {
     "name": "stdout",
     "output_type": "stream",
     "text": [
      "Loading point cloud from reconstructions/Uten.ply...\n",
      "Point cloud doesn't have normals, estimating them...\n",
      "Running Poisson surface reconstruction...\n",
      "[Open3D DEBUG] Input Points / Samples: 598200 / 428192\n",
      "[Open3D DEBUG] #   Got kernel density: 0.15199995040893555 (s), 250.27734375 (MB) / 250.27734375 (MB) / 1304 (MB)\n",
      "[Open3D DEBUG] #     Got normal field: 1.7000000476837158 (s), 328.88671875 (MB) / 328.88671875 (MB) / 1304 (MB)\n",
      "[Open3D DEBUG] Point weight / Estimated Area: 2.769422e-06 / 1.656668e+00\n",
      "[Open3D DEBUG] #       Finalized tree: 0.5699999332427979 (s), 410.6484375 (MB) / 410.6484375 (MB) / 1304 (MB)\n",
      "[Open3D DEBUG] #  Set FEM constraints: 0.5220000743865967 (s), 376.12109375 (MB) / 410.6484375 (MB) / 1304 (MB)\n",
      "[Open3D DEBUG] #Set point constraints: 0.22699999809265137 (s), 351.50390625 (MB) / 410.6484375 (MB) / 1304 (MB)\n",
      "[Open3D DEBUG] Leaf Nodes / Active Nodes / Ghost Nodes: 2475082 / 2827768 / 897\n",
      "[Open3D DEBUG] Memory Usage: 351.504 MB\n",
      "[Open3D DEBUG] # Linear system solved: 1.7390000820159912 (s), 424.84375 (MB) / 424.84375 (MB) / 1304 (MB)\n",
      "[Open3D DEBUG] Got average: 0.032000064849853516 (s), 329.53125 (MB) / 424.84375 (MB) / 1304 (MB)\n",
      "[Open3D DEBUG] Iso-Value: 5.011544e-01 = 2.997906e+05 / 5.982000e+05\n",
      "[Open3D DEBUG] #          Total Solve:       8.4 (s),     515.1 (MB)\n",
      "Removing low-density vertices...\n",
      "Visualizing reconstructed mesh...\n"
     ]
    },
    {
     "data": {
      "text/plain": [
       "TriangleMesh with 404940 points and 802970 triangles."
      ]
     },
     "execution_count": 2,
     "metadata": {},
     "output_type": "execute_result"
    }
   ],
   "source": [
    "poisson_reconstruction_from_point_cloud(\"reconstructions/Uten.ply\", \"reconstructions/Uten_mesh.ply\")"
   ]
  },
  {
   "cell_type": "markdown",
   "metadata": {},
   "source": [
    "## Pre-painting - coloring sketch"
   ]
  },
  {
   "cell_type": "markdown",
   "metadata": {},
   "source": [
    "### Converting image to sketch"
   ]
  },
  {
   "cell_type": "code",
   "execution_count": null,
   "metadata": {},
   "outputs": [],
   "source": [
    "# Import all the required modules\n",
    "import numpy as np\n",
    "import imageio\n",
    "import scipy.ndimage\n",
    "import cv2\n",
    " \n",
    "img = \"test.png\"\n",
    " \n",
    "# Function to convert image into sketch\n",
    "def rgb2gray(rgb):\n",
    "    # 2 dimensional array to convert image to sketch\n",
    "    return np.dot(rgb[..., :3], [0.2989, 0.5870, .1140])\n",
    " \n",
    "def dodge(front, back):\n",
    " \n",
    "    # If image is greater than 255 (which is not possible) it will convert it to 255\n",
    "    final_sketch = front*255/(255-back)\n",
    "    final_sketch[final_sketch > 255] = 255\n",
    "    final_sketch[back == 255] = 255\n",
    " \n",
    "    # To convert any suitable existing column to categorical type we will use aspect function\n",
    "    # And uint8 is for 8-bit signed integer\n",
    "    return final_sketch.astype('uint8')\n",
    " \n",
    "ss = imageio.imread(img)\n",
    "gray = rgb2gray(ss)\n",
    " \n",
    "i = 255-gray\n",
    " \n",
    "# To convert into a blur image\n",
    "blur = scipy.ndimage.filters.gaussian_filter(i, sigma=13)\n",
    " \n",
    "# Calling the function\n",
    "r = dodge(blur, gray)\n",
    "\n",
    "cv2.imwrite('sketch.png', r)"
   ]
  },
  {
   "cell_type": "markdown",
   "metadata": {},
   "source": [
    "### Creating a color pallete"
   ]
  },
  {
   "cell_type": "code",
   "execution_count": null,
   "metadata": {},
   "outputs": [],
   "source": [
    "import ipywidgets as widgets\n",
    "from IPython.display import display\n",
    "\n",
    "# Initialize an empty dictionary to store text and color hex values\n",
    "text_color_dict = {}\n",
    "\n",
    "# Function to handle the submission of text and color\n",
    "def submit_text_color(text, color):\n",
    "    text_color_dict[text] = color\n",
    "    print(f\"Added: {text} with color {color}\")\n",
    "\n",
    "# Function to handle the submission of text and color\n",
    "def delete_text_color(dict):\n",
    "    dict.clear()\n",
    "    print(f\"Dictionary deleted\")\n",
    "\n",
    "# Create text input widget\n",
    "text_input = widgets.Text(\n",
    "    value='',\n",
    "    placeholder='Type something',\n",
    "    description='Text:',\n",
    "    disabled=False\n",
    ")\n",
    "\n",
    "# Create color picker widget\n",
    "color_picker = widgets.ColorPicker(\n",
    "    value='#ff0000',\n",
    "    description='Pick a color',\n",
    "    disabled=False\n",
    ")\n",
    "\n",
    "# Create a button to submit the text and color\n",
    "submit_button = widgets.Button(\n",
    "    description='Submit',\n",
    "    disabled=False,\n",
    "    button_style='', # 'success', 'info', 'warning', 'danger' or ''\n",
    "    tooltip='Click to submit text and color',\n",
    "    icon='check'\n",
    ")\n",
    "\n",
    "# Create a button to clear the dictionary\n",
    "delete_button = widgets.Button(\n",
    "    description='Clear',\n",
    "    disabled=False,\n",
    "    button_style='', # 'success', 'info', 'warning', 'danger' or ''\n",
    "    tooltip='Click to submit text and color',\n",
    "    icon='delete'\n",
    ")\n",
    "\n",
    "# Define the button click event handler\n",
    "def on_submit_button_clicked(b):\n",
    "    submit_text_color(text_input.value, color_picker.value)\n",
    "    text_input.value = ''  # Clear the text input after submission\n",
    "\n",
    "# Define the button click event handler\n",
    "def on_delete_button_clicked(b):\n",
    "    delete_text_color(text_color_dict)\n",
    "    text_input.value = ''  # Clear the text input after submission\n",
    "\n",
    "# Attach the event handler to the button\n",
    "submit_button.on_click(on_submit_button_clicked)\n",
    "delete_button.on_click(on_delete_button_clicked)\n",
    "\n",
    "# Display the widgets\n",
    "display(text_input, color_picker, submit_button, delete_button)"
   ]
  },
  {
   "cell_type": "code",
   "execution_count": null,
   "metadata": {},
   "outputs": [],
   "source": [
    "print(text_color_dict)"
   ]
  },
  {
   "cell_type": "markdown",
   "metadata": {},
   "source": [
    "### Generating the PDF file with the sketch, parts, HEX code and square with correspondent color"
   ]
  },
  {
   "cell_type": "code",
   "execution_count": 14,
   "metadata": {},
   "outputs": [],
   "source": [
    "from reportlab.lib.pagesizes import letter\n",
    "from reportlab.lib.units import inch\n",
    "from reportlab.lib.colors import HexColor\n",
    "from reportlab.pdfgen import canvas\n",
    "from PIL import Image as PILImage\n",
    "\n",
    "def generate_pdf(image_path, text_color_dict, output_path=\"sketch.pdf\"):\n",
    "    c = canvas.Canvas(output_path, pagesize=letter)\n",
    "    width, height = letter\n",
    "\n",
    "    # Set margins\n",
    "    margin = 0.5 * inch\n",
    "    text_x = margin\n",
    "    text_y = height - margin\n",
    "\n",
    "    # Load the image\n",
    "    img = PILImage.open(image_path)\n",
    "    img_width, img_height = img.size\n",
    "\n",
    "    # Resize the image to fit within a constant size while keeping proportions\n",
    "    aspect_ratio = img_width / img_height\n",
    "    img_height = 500\n",
    "    img_width = int(img_height * aspect_ratio)\n",
    "\n",
    "    # Calculate the position to center the image on the right part\n",
    "    img_x = width - img_width - margin\n",
    "    img_y = (height - img_height) / 2\n",
    "\n",
    "    # Draw the image\n",
    "    c.drawImage(image_path, img_x, img_y, width=img_width, height=img_height)\n",
    "\n",
    "    # Draw the dictionary items\n",
    "    column_width = (width - img_width - 2 * margin) / 2\n",
    "    for i, (text, color) in enumerate(text_color_dict.items()):\n",
    "        if text_y < margin:\n",
    "            text_x += column_width\n",
    "            text_y = height - margin\n",
    "\n",
    "        c.setFillColor(HexColor(color))\n",
    "        c.rect(text_x, text_y - 10, 10, 10, fill=1)\n",
    "        c.setFillColor(HexColor(\"#000000\"))\n",
    "        c.drawString(text_x + 15, text_y - 10, f\"{text}: {color}\")\n",
    "        text_y -= 20\n",
    "\n",
    "    c.save()\n",
    "\n",
    "# Example usage:\n",
    "generate_pdf(\"sketch.png\", text_color_dict)"
   ]
  }
 ],
 "metadata": {
  "kernelspec": {
   "display_name": ".venv",
   "language": "python",
   "name": "python3"
  },
  "language_info": {
   "codemirror_mode": {
    "name": "ipython",
    "version": 3
   },
   "file_extension": ".py",
   "mimetype": "text/x-python",
   "name": "python",
   "nbconvert_exporter": "python",
   "pygments_lexer": "ipython3",
   "version": "3.10.11"
  }
 },
 "nbformat": 4,
 "nbformat_minor": 2
}
